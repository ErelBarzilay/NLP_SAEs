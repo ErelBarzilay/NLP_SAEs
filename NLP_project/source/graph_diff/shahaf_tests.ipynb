{
 "cells": [
  {
   "cell_type": "code",
   "execution_count": 1,
   "metadata": {},
   "outputs": [
    {
     "name": "stdout",
     "output_type": "stream",
     "text": [
      "The token has not been saved to the git credentials helper. Pass `add_to_git_credential=True` in this function directly or `--add-to-git-credential` if using via `huggingface-cli` if you want to set the git credential as well.\n",
      "Token is valid (permission: fineGrained).\n",
      "Your token has been saved to /a/home/cc/students/csguests/erelbarzilay/.cache/huggingface/token\n",
      "Login successful\n",
      "device:  cpu\n"
     ]
    }
   ],
   "source": [
    "import torch\n",
    "import matplotlib.pyplot as plt\n",
    "import pandas as pd\n",
    "import sys\n",
    "\n",
    "sys.path.append('../')\n",
    "import dataset_generator\n",
    "from get_sae_repr_and_loss import add_similarities, gen_graph\n",
    "\n",
    "\n",
    "\n"
   ]
  },
  {
   "cell_type": "code",
   "execution_count": 2,
   "metadata": {},
   "outputs": [
    {
     "name": "stderr",
     "output_type": "stream",
     "text": [
      "/tmp/ipykernel_1035001/1200976624.py:2: FutureWarning: You are using `torch.load` with `weights_only=False` (the current default value), which uses the default pickle module implicitly. It is possible to construct malicious pickle data which will execute arbitrary code during unpickling (See https://github.com/pytorch/pytorch/blob/main/SECURITY.md#untrusted-models for more details). In a future release, the default value for `weights_only` will be flipped to `True`. This limits the functions that could be executed during unpickling. Arbitrary objects will no longer be allowed to be loaded via this mode unless they are explicitly allowlisted by the user via `torch.serialization.add_safe_globals`. We recommend you start setting `weights_only=True` for any use case where you don't have full control of the loaded file. Please open an issue on GitHub for any issues related to this experimental feature.\n",
      "  pre = torch.load(save_dir + \"/tensors/pre.pt\")\n",
      "/tmp/ipykernel_1035001/1200976624.py:3: FutureWarning: You are using `torch.load` with `weights_only=False` (the current default value), which uses the default pickle module implicitly. It is possible to construct malicious pickle data which will execute arbitrary code during unpickling (See https://github.com/pytorch/pytorch/blob/main/SECURITY.md#untrusted-models for more details). In a future release, the default value for `weights_only` will be flipped to `True`. This limits the functions that could be executed during unpickling. Arbitrary objects will no longer be allowed to be loaded via this mode unless they are explicitly allowlisted by the user via `torch.serialization.add_safe_globals`. We recommend you start setting `weights_only=True` for any use case where you don't have full control of the loaded file. Please open an issue on GitHub for any issues related to this experimental feature.\n",
      "  post = torch.load(save_dir + \"/tensors/post.pt\")\n",
      "/tmp/ipykernel_1035001/1200976624.py:4: FutureWarning: You are using `torch.load` with `weights_only=False` (the current default value), which uses the default pickle module implicitly. It is possible to construct malicious pickle data which will execute arbitrary code during unpickling (See https://github.com/pytorch/pytorch/blob/main/SECURITY.md#untrusted-models for more details). In a future release, the default value for `weights_only` will be flipped to `True`. This limits the functions that could be executed during unpickling. Arbitrary objects will no longer be allowed to be loaded via this mode unless they are explicitly allowlisted by the user via `torch.serialization.add_safe_globals`. We recommend you start setting `weights_only=True` for any use case where you don't have full control of the loaded file. Please open an issue on GitHub for any issues related to this experimental feature.\n",
      "  rep = torch.load(save_dir + \"/tensors/rep.pt\")\n",
      "100%|██████████| 99381/99381 [00:13<00:00, 7521.24it/s]\n",
      "100%|██████████| 99381/99381 [00:08<00:00, 12055.73it/s]\n",
      "100%|██████████| 99381/99381 [00:06<00:00, 16050.87it/s]\n",
      "100%|██████████| 99381/99381 [00:06<00:00, 15969.13it/s]\n"
     ]
    }
   ],
   "source": [
    "save_dir = \"../../outputs/7.2024-10-21_22-34-04/data/4.v4_pileval_llama_layer_2_width_16k_canonical_gemma-scope-2b-pt-res-canonical\"\n",
    "pre = torch.load(save_dir + \"/tensors/pre.pt\")\n",
    "post = torch.load(save_dir + \"/tensors/post.pt\")\n",
    "rep = torch.load(save_dir + \"/tensors/rep.pt\")\n",
    "\n",
    "data = pd.read_csv(save_dir + \"/data.csv\")\n",
    "combined_df = dataset_generator.combine_df(data)\n",
    "combined_df = add_similarities(combined_df, post, pre, rep)"
   ]
  },
  {
   "cell_type": "code",
   "execution_count": 3,
   "metadata": {},
   "outputs": [],
   "source": [
    "out_dir = \"out\""
   ]
  },
  {
   "cell_type": "code",
   "execution_count": 4,
   "metadata": {},
   "outputs": [],
   "source": [
    "# gen_graph(data, \"loss\", \"frequency\", \"loss\", out_dir)\n",
    "# gen_graph(data, \"loss\", \"log_freq\", \"loss\", out_dir)\n",
    "# for string in [\"loss_diff\",\"Jaccard_Similarity\", \"Repr_Cosine_Similarity\", \"Pre_Cosine_Similarity\", \"Post_Cosine_Similarity\"]:\n",
    "# \tfor by in [\"log_diff\", \"diff\"]:\n",
    "# \t\tgen_graph(combined_df, string + \"_\" + by, by, string, out_dir)"
   ]
  },
  {
   "cell_type": "code",
   "execution_count": 5,
   "metadata": {},
   "outputs": [],
   "source": [
    "# combined_df.head()"
   ]
  },
  {
   "cell_type": "code",
   "execution_count": 6,
   "metadata": {},
   "outputs": [],
   "source": [
    "# gen_graph(combined_df, \"my_new_graph\", \"Pre_Cosine_Similarity\", \"Repr_Cosine_Similarity\", out_dir)"
   ]
  },
  {
   "cell_type": "code",
   "execution_count": 8,
   "metadata": {},
   "outputs": [],
   "source": [
    "from graph_diff_utils import graph_dif"
   ]
  },
  {
   "cell_type": "code",
   "execution_count": 9,
   "metadata": {},
   "outputs": [],
   "source": [
    "\n",
    "# demo data\n",
    "# create numpy array\n",
    "x = combined_df[\"diff\"].to_numpy()\n",
    "y = combined_df[\"Pre_Cosine_Similarity\"].to_numpy()\n",
    "y2 = combined_df[\"Repr_Cosine_Similarity\"].to_numpy()\n",
    "\n",
    "#create torch tensor\n",
    "# x = torch.tensor(x)\n",
    "# y = torch.tensor(y)\n",
    "# y2 = torch.tensor(y2)\n",
    "\n",
    "graph_dif(x, y, y2)\n",
    "plt.savefig(out_dir + \"/graph_dif.png\")"
   ]
  },
  {
   "cell_type": "code",
   "execution_count": null,
   "metadata": {},
   "outputs": [],
   "source": []
  }
 ],
 "metadata": {
  "kernelspec": {
   "display_name": "Python 3",
   "language": "python",
   "name": "python3"
  },
  "language_info": {
   "codemirror_mode": {
    "name": "ipython",
    "version": 3
   },
   "file_extension": ".py",
   "mimetype": "text/x-python",
   "name": "python",
   "nbconvert_exporter": "python",
   "pygments_lexer": "ipython3",
   "version": "3.12.4"
  }
 },
 "nbformat": 4,
 "nbformat_minor": 2
}
